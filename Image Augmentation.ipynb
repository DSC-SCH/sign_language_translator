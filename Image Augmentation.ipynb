{
 "cells": [
  {
   "cell_type": "code",
   "execution_count": null,
   "metadata": {
    "scrolled": true
   },
   "outputs": [
    {
     "name": "stderr",
     "output_type": "stream",
     "text": [
      "C:\\Users\\oh\\AppData\\Local\\Continuum\\anaconda3\\envs\\signLanguageTranslator\\lib\\site-packages\\h5py\\__init__.py:36: FutureWarning: Conversion of the second argument of issubdtype from `float` to `np.floating` is deprecated. In future, it will be treated as `np.float64 == np.dtype(float).type`.\n",
      "  from ._conv import register_converters as _register_converters\n"
     ]
    },
    {
     "name": "stdout",
     "output_type": "stream",
     "text": [
      "h\n",
      "\n",
      "i\n",
      "\n"
     ]
    }
   ],
   "source": [
    "import numpy as np\n",
    "import string\n",
    "import glob\n",
    "from pathlib import Path\n",
    "import os\n",
    "\n",
    "# 랜덤시드 고정시키기\n",
    "np.random.seed(5)\n",
    "\n",
    "from tensorflow.keras.preprocessing.image import ImageDataGenerator, array_to_img, img_to_array, load_img\n",
    "\n",
    "# 데이터셋 불러오기\n",
    "data_aug_gen = ImageDataGenerator(rescale=None, \n",
    "                                  rotation_range=15,\n",
    "                                  width_shift_range=0.1,\n",
    "                                  height_shift_range=0.1,\n",
    "                                  shear_range=0.5,\n",
    "                                  zoom_range=[0.8, 2.0],\n",
    "                                  horizontal_flip=True,\n",
    "                                  #vertical_flip=True,\n",
    "                                  fill_mode='nearest')\n",
    "#path2 =r'D:\\dataset\\r'\n",
    "directory = list(string.ascii_lowercase)\n",
    "directory.extend(['oo','pp','hl','ml','nl'])\n",
    "\n",
    "# 디렉토리별로 돌아가면서 모든 사진들에 대해서 +4장씩 데이터를 증식시킴(클래스별 총 데이터 수가 45*4=180장이상이 됨)\n",
    "for _ in directory:\n",
    "    path = 'D:\\\\dataset\\\\'+_\n",
    "    file_list = glob.glob(path+'\\\\*.jpg')\n",
    "    #imagesPath = [file for file in file_list if file.endswith(\".jpg\")]\n",
    "    print(_+\"\\n\")\n",
    "    \n",
    "    for eachImgPath in file_list:\n",
    "        img = load_img(eachImgPath)\n",
    "        x = img_to_array(img)\n",
    "        x = x.reshape((1,) + x.shape)\n",
    "\n",
    "        i = 0\n",
    "\n",
    "        # 이 for는 무한으로 반복되기 때문에 우리가 원하는 반복횟수를 지정하여, 지정된 반복횟수가 되면 빠져나오도록 해야합니다.\n",
    "        for batch in data_aug_gen.flow(x, batch_size=1, save_to_dir=path, save_prefix=_, save_format='jpg'):\n",
    "            i += 1\n",
    "            if i > 3: \n",
    "                break"
   ]
  },
  {
   "cell_type": "code",
   "execution_count": null,
   "metadata": {},
   "outputs": [],
   "source": []
  },
  {
   "cell_type": "code",
   "execution_count": null,
   "metadata": {},
   "outputs": [],
   "source": []
  }
 ],
 "metadata": {
  "kernelspec": {
   "display_name": "Python 3",
   "language": "python",
   "name": "python3"
  },
  "language_info": {
   "codemirror_mode": {
    "name": "ipython",
    "version": 3
   },
   "file_extension": ".py",
   "mimetype": "text/x-python",
   "name": "python",
   "nbconvert_exporter": "python",
   "pygments_lexer": "ipython3",
   "version": "3.6.10"
  }
 },
 "nbformat": 4,
 "nbformat_minor": 2
}
